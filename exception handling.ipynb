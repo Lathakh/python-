{
 "cells": [
  {
   "cell_type": "markdown",
   "metadata": {},
   "source": [
    "# what is exception handling?"
   ]
  },
  {
   "cell_type": "markdown",
   "metadata": {},
   "source": [
    "##### exception handling  is An exception in Python is an incident that happens while executing a program that causes the regular course of the program's commands to be disrupted. When a Python code comes across a condition it can't handle, it raises an exception. An object in Python that describes an error is called an exception."
   ]
  },
  {
   "cell_type": "markdown",
   "metadata": {},
   "source": [
    "# step to excute some code\n",
    "\n",
    "### 1.source code \n",
    "###            |\n",
    "###  2. compiler ----- compiler time error\n",
    "###             |\n",
    "###  3. byte code\n",
    "###             |\n",
    "###   4. interpreter  ----- runtime error [exception]   \n",
    "\n"
   ]
  },
  {
   "cell_type": "markdown",
   "metadata": {},
   "source": [
    "# why we need to handle exception?"
   ]
  },
  {
   "cell_type": "markdown",
   "metadata": {},
   "source": [
    "### 1. It stop the excution of further code even though it is correct .\n",
    "### 2. This is  not user friendly"
   ]
  },
  {
   "cell_type": "code",
   "execution_count": 4,
   "metadata": {},
   "outputs": [
    {
     "name": "stdout",
     "output_type": "stream",
     "text": [
      "enter the number112\n",
      "enter the number 20\n"
     ]
    },
    {
     "ename": "ZeroDivisionError",
     "evalue": "division by zero",
     "output_type": "error",
     "traceback": [
      "\u001b[1;31m---------------------------------------------------------------------------\u001b[0m",
      "\u001b[1;31mZeroDivisionError\u001b[0m                         Traceback (most recent call last)",
      "\u001b[1;32m<ipython-input-4-433f4649b814>\u001b[0m in \u001b[0;36m<module>\u001b[1;34m\u001b[0m\n\u001b[0;32m      1\u001b[0m \u001b[0ma\u001b[0m\u001b[1;33m=\u001b[0m\u001b[0mint\u001b[0m\u001b[1;33m(\u001b[0m\u001b[0minput\u001b[0m\u001b[1;33m(\u001b[0m\u001b[1;34m\"enter the number1\"\u001b[0m\u001b[1;33m)\u001b[0m\u001b[1;33m)\u001b[0m\u001b[1;33m\u001b[0m\u001b[1;33m\u001b[0m\u001b[0m\n\u001b[0;32m      2\u001b[0m \u001b[0mb\u001b[0m\u001b[1;33m=\u001b[0m\u001b[0mint\u001b[0m\u001b[1;33m(\u001b[0m\u001b[0minput\u001b[0m\u001b[1;33m(\u001b[0m\u001b[1;34m\"enter the number 2\"\u001b[0m\u001b[1;33m)\u001b[0m\u001b[1;33m)\u001b[0m\u001b[1;33m\u001b[0m\u001b[1;33m\u001b[0m\u001b[0m\n\u001b[1;32m----> 3\u001b[1;33m \u001b[0mc\u001b[0m\u001b[1;33m=\u001b[0m\u001b[0ma\u001b[0m\u001b[1;33m/\u001b[0m\u001b[0mb\u001b[0m\u001b[1;33m\u001b[0m\u001b[1;33m\u001b[0m\u001b[0m\n\u001b[0m\u001b[0;32m      4\u001b[0m \u001b[0mprint\u001b[0m\u001b[1;33m(\u001b[0m\u001b[0mc\u001b[0m\u001b[1;33m)\u001b[0m\u001b[1;33m\u001b[0m\u001b[1;33m\u001b[0m\u001b[0m\n\u001b[0;32m      5\u001b[0m \u001b[0md\u001b[0m\u001b[1;33m=\u001b[0m\u001b[0ma\u001b[0m\u001b[1;33m*\u001b[0m\u001b[0mb\u001b[0m\u001b[1;33m\u001b[0m\u001b[1;33m\u001b[0m\u001b[0m\n",
      "\u001b[1;31mZeroDivisionError\u001b[0m: division by zero"
     ]
    }
   ],
   "source": [
    "a=int(input(\"enter the number1\"))\n",
    "b=int(input(\"enter the number 2\"))\n",
    "c=a/b\n",
    "print(c)\n",
    "d=a*b   \"\"\"even this code is valid but still it will not running so in order to handle this in run time error also \n",
    "            called  exception  to handle that run time error we have concept called exception handling \"\"\" \n",
    "print(d)\n"
   ]
  },
  {
   "cell_type": "markdown",
   "metadata": {},
   "source": [
    "# what are key word in exception handling?\n",
    "\n",
    "### 1.try\n",
    "### 2.catch\n",
    "### 3.except\n",
    "### 4.raise\n",
    "### 5.finally\n",
    "\n",
    "\n",
    "\n",
    "\n",
    "\n",
    "\n",
    "\n"
   ]
  },
  {
   "cell_type": "code",
   "execution_count": 9,
   "metadata": {},
   "outputs": [
    {
     "name": "stdout",
     "output_type": "stream",
     "text": [
      "enter the number123\n",
      "enter the number 20\n",
      "b should not be zero\n"
     ]
    }
   ],
   "source": [
    "a=int(input(\"enter the number1\"))\n",
    "b=int(input(\"enter the number 2\"))\n",
    "try:\n",
    "    c=a/b\n",
    "    print(c)\n",
    "except ZeroDivisionError:\n",
    "    print(\"b should not be zero\")"
   ]
  },
  {
   "cell_type": "code",
   "execution_count": 1,
   "metadata": {},
   "outputs": [
    {
     "ename": "SyntaxError",
     "evalue": "unmatched ')' (<ipython-input-1-c6b98fb96a2a>, line 5)",
     "output_type": "error",
     "traceback": [
      "\u001b[1;36m  File \u001b[1;32m\"<ipython-input-1-c6b98fb96a2a>\"\u001b[1;36m, line \u001b[1;32m5\u001b[0m\n\u001b[1;33m    print(c))\u001b[0m\n\u001b[1;37m            ^\u001b[0m\n\u001b[1;31mSyntaxError\u001b[0m\u001b[1;31m:\u001b[0m unmatched ')'\n"
     ]
    }
   ],
   "source": [
    "a=int(input(\"enter the number1\"))\n",
    "b=int(input(\"enter the number 2\"))\n",
    "try:\n",
    "    c=a/b\n",
    "    print(c))\n",
    "except:\n",
    "    print(\"wrong syntax\")"
   ]
  },
  {
   "cell_type": "markdown",
   "metadata": {},
   "source": [
    "##### for this above example even it error in the syntax we are not getting meassage which we are trying to print in the except block.so what we can conclude is that compile(syntax) error cant be handled only runtime error we can able to handle by using try except block."
   ]
  },
  {
   "cell_type": "markdown",
   "metadata": {},
   "source": [
    "### Write a program to ask the user to input 2 integer and calculate and peint their division.Make sure your program behave as follows: \n",
    "###  1.if the user enters a non integer value then ask hin to enter only integer\n",
    "###  2. if denominator is 0, then ask him to input non zero value \n",
    "\n",
    "## repeat the process until correct input is given\n",
    "\n",
    "-only if the input is correct then only display their division and terminate the code"
   ]
  },
  {
   "cell_type": "code",
   "execution_count": 2,
   "metadata": {},
   "outputs": [
    {
     "name": "stdout",
     "output_type": "stream",
     "text": [
      "enter the number1: 50\n",
      "enter the number 2: a\n",
      "there should not be a string\n",
      "enter the number1: 50\n",
      "enter the number 2: 0\n",
      "non zero denominator\n",
      "enter the number1: 50\n",
      "enter the number 2: 10\n",
      "5.0\n"
     ]
    }
   ],
   "source": [
    "while True:\n",
    "   \n",
    "    try:\n",
    "        a=int(input(\"enter the number1: \"))\n",
    "        b=int(input(\"enter the number 2: \"))\n",
    "        c=a/b\n",
    "        print(c)\n",
    "        break\n",
    "        \n",
    "    except ValueError:\n",
    "        print(\"there should not be a string\")       \n",
    "    except ZeroDivisionError:\n",
    "        print(\"non zero denominator\")  \n",
    "   "
   ]
  },
  {
   "cell_type": "code",
   "execution_count": 5,
   "metadata": {},
   "outputs": [
    {
     "name": "stdout",
     "output_type": "stream",
     "text": [
      "write your name: latha\n",
      "write your name: kh\n",
      "write your name: sunny\n",
      "sunny\n"
     ]
    }
   ],
   "source": [
    "while True:\n",
    "    name=input(\"write your name: \")\n",
    "    if name==\"sunny\":\n",
    "        print(\"sunny\")\n",
    "        break"
   ]
  },
  {
   "cell_type": "code",
   "execution_count": 4,
   "metadata": {},
   "outputs": [
    {
     "name": "stdout",
     "output_type": "stream",
     "text": [
      "enter a stirnglatha\n"
     ]
    },
    {
     "ename": "ValueError",
     "evalue": "invalid literal for int() with base 10: 'latha'",
     "output_type": "error",
     "traceback": [
      "\u001b[1;31m---------------------------------------------------------------------------\u001b[0m",
      "\u001b[1;31mValueError\u001b[0m                                Traceback (most recent call last)",
      "\u001b[1;32m<ipython-input-4-4d65c81f5a65>\u001b[0m in \u001b[0;36m<module>\u001b[1;34m\u001b[0m\n\u001b[1;32m----> 1\u001b[1;33m \u001b[0mint\u001b[0m\u001b[1;33m(\u001b[0m\u001b[0minput\u001b[0m\u001b[1;33m(\u001b[0m\u001b[1;34m\"enter a stirng\"\u001b[0m\u001b[1;33m)\u001b[0m\u001b[1;33m)\u001b[0m\u001b[1;33m\u001b[0m\u001b[1;33m\u001b[0m\u001b[0m\n\u001b[0m",
      "\u001b[1;31mValueError\u001b[0m: invalid literal for int() with base 10: 'latha'"
     ]
    }
   ],
   "source": [
    "int(input(\"enter a stirng\"))"
   ]
  },
  {
   "cell_type": "code",
   "execution_count": 9,
   "metadata": {},
   "outputs": [
    {
     "name": "stdout",
     "output_type": "stream",
     "text": [
      "enter a stirng: latha\n",
      "you are entered string not number,plz enter number: \n"
     ]
    }
   ],
   "source": [
    "try:\n",
    "    int(input(\"enter a stirng: \"))\n",
    "except ValueError:\n",
    "    print(\"you are entered string not number,plz enter number: \")"
   ]
  },
  {
   "cell_type": "code",
   "execution_count": 5,
   "metadata": {},
   "outputs": [
    {
     "name": "stdout",
     "output_type": "stream",
     "text": [
      "enter a stirnglatha\n"
     ]
    },
    {
     "data": {
      "text/plain": [
       "'latha'"
      ]
     },
     "execution_count": 5,
     "metadata": {},
     "output_type": "execute_result"
    }
   ],
   "source": [
    "input(\"enter a stirng\")"
   ]
  },
  {
   "cell_type": "code",
   "execution_count": 3,
   "metadata": {},
   "outputs": [
    {
     "name": "stdout",
     "output_type": "stream",
     "text": [
      "enter the number1: 50\n",
      "enter the number2: 0\n",
      "(<class 'ZeroDivisionError'>, ZeroDivisionError('division by zero'), <traceback object at 0x00000240BDE6F440>)\n",
      "enter the number1: 5-\n",
      "(<class 'ValueError'>, ValueError(\"invalid literal for int() with base 10: '5-'\"), <traceback object at 0x00000240BDE6F640>)\n",
      "enter the number1: 50\n",
      "enter the number2: 20\n",
      "div: 2.5\n"
     ]
    }
   ],
   "source": [
    "import sys\n",
    "while True:\n",
    "    try:\n",
    "            a=int(input(\"enter the number1: \"))\n",
    "            b=int(input(\"enter the number2: \"))\n",
    "            c=a/b\n",
    "            print(\"div:\", c)\n",
    "            break\n",
    "            \n",
    "    except:   \n",
    "        print(sys.exc_info())"
   ]
  },
  {
   "cell_type": "code",
   "execution_count": 5,
   "metadata": {},
   "outputs": [
    {
     "name": "stdout",
     "output_type": "stream",
     "text": [
      "enter the number1: 50\n",
      "enter the number2: 0\n",
      "exception class <class 'ZeroDivisionError'>\n",
      "exception message division by zero\n",
      "line number 6\n",
      "enter the number1: 50\n",
      "enter the number2: 10\n",
      "div: 5.0\n"
     ]
    }
   ],
   "source": [
    "import sys\n",
    "while True:\n",
    "    try:\n",
    "            a=int(input(\"enter the number1: \"))\n",
    "            b=int(input(\"enter the number2: \"))\n",
    "            c=a/b\n",
    "            print(\"div:\", c)\n",
    "            break\n",
    "            \n",
    "    except:   \n",
    "        a,b,c=sys.exc_info()\n",
    "        print(\"exception class\",a)\n",
    "        print(\"exception message\" ,b)\n",
    "        print(\"line number\",c.tb_lineno)"
   ]
  },
  {
   "cell_type": "markdown",
   "metadata": {},
   "source": [
    "### import sys.exc_info()     ,  import traceback.format_exc()\n",
    "in order to know the info on exception handling "
   ]
  },
  {
   "cell_type": "code",
   "execution_count": 12,
   "metadata": {},
   "outputs": [
    {
     "ename": "SyntaxError",
     "evalue": "invalid syntax (<ipython-input-12-dce2ff382f76>, line 1)",
     "output_type": "error",
     "traceback": [
      "\u001b[1;36m  File \u001b[1;32m\"<ipython-input-12-dce2ff382f76>\"\u001b[1;36m, line \u001b[1;32m1\u001b[0m\n\u001b[1;33m    import traceback.format_exc()\u001b[0m\n\u001b[1;37m                               ^\u001b[0m\n\u001b[1;31mSyntaxError\u001b[0m\u001b[1;31m:\u001b[0m invalid syntax\n"
     ]
    }
   ],
   "source": [
    "import traceback.format_exc()"
   ]
  },
  {
   "cell_type": "code",
   "execution_count": 11,
   "metadata": {},
   "outputs": [
    {
     "ename": "SyntaxError",
     "evalue": "invalid syntax (<ipython-input-11-218d45fb0458>, line 1)",
     "output_type": "error",
     "traceback": [
      "\u001b[1;36m  File \u001b[1;32m\"<ipython-input-11-218d45fb0458>\"\u001b[1;36m, line \u001b[1;32m1\u001b[0m\n\u001b[1;33m    import traceback.format_exc()\u001b[0m\n\u001b[1;37m                               ^\u001b[0m\n\u001b[1;31mSyntaxError\u001b[0m\u001b[1;31m:\u001b[0m invalid syntax\n"
     ]
    }
   ],
   "source": [
    "import traceback.format_exc()\n",
    "import traceback\n",
    "while True:\n",
    "    try:\n",
    "            a=int(input(\"enter the number1: \"))\n",
    "            b=int(input(\"enter the number2: \"))\n",
    "            c=a/b\n",
    "            print(\"div:\", c)\n",
    "            break\n",
    "            \n",
    "    except:   \n",
    "        \n",
    "        print(traceback.format_exc())"
   ]
  },
  {
   "cell_type": "code",
   "execution_count": 13,
   "metadata": {},
   "outputs": [
    {
     "ename": "ZeroDivisionError",
     "evalue": "division by zero",
     "output_type": "error",
     "traceback": [
      "\u001b[1;31m---------------------------------------------------------------------------\u001b[0m",
      "\u001b[1;31mZeroDivisionError\u001b[0m                         Traceback (most recent call last)",
      "\u001b[1;32m<ipython-input-13-cfde1f654e8d>\u001b[0m in \u001b[0;36m<module>\u001b[1;34m\u001b[0m\n\u001b[0;32m      1\u001b[0m \u001b[0ma\u001b[0m\u001b[1;33m=\u001b[0m\u001b[1;36m10\u001b[0m\u001b[1;33m\u001b[0m\u001b[1;33m\u001b[0m\u001b[0m\n\u001b[0;32m      2\u001b[0m \u001b[0mb\u001b[0m\u001b[1;33m=\u001b[0m\u001b[1;36m0\u001b[0m\u001b[1;33m\u001b[0m\u001b[1;33m\u001b[0m\u001b[0m\n\u001b[1;32m----> 3\u001b[1;33m \u001b[0ma\u001b[0m\u001b[1;33m/\u001b[0m\u001b[0mb\u001b[0m\u001b[1;33m\u001b[0m\u001b[1;33m\u001b[0m\u001b[0m\n\u001b[0m",
      "\u001b[1;31mZeroDivisionError\u001b[0m: division by zero"
     ]
    }
   ],
   "source": [
    "a=10\n",
    "b=0\n",
    "a/b\n"
   ]
  },
  {
   "cell_type": "code",
   "execution_count": null,
   "metadata": {},
   "outputs": [],
   "source": [
    "raise exception\n"
   ]
  },
  {
   "cell_type": "code",
   "execution_count": null,
   "metadata": {},
   "outputs": [],
   "source": [
    "at custom line"
   ]
  },
  {
   "cell_type": "code",
   "execution_count": null,
   "metadata": {},
   "outputs": [],
   "source": [
    "while True:\n",
    "    try:\n",
    "            a=int(input(\"enter the number1: \"))\n",
    "            b=int(input(\"enter the number2: \"))\n",
    "            c=a/b\n",
    "            print(\"div:\", c)\n",
    "            break\n",
    "            \n",
    "    except ZeroDivisionError as e:   \n",
    "        print(e)"
   ]
  },
  {
   "cell_type": "code",
   "execution_count": 8,
   "metadata": {},
   "outputs": [
    {
     "name": "stdout",
     "output_type": "stream",
     "text": [
      "enter the number150\n",
      "enter the number 20\n",
      "b should  not be 0: \n"
     ]
    }
   ],
   "source": [
    "a=int(input(\"enter the number1\"))\n",
    "b=int(input(\"enter the number 2\"))\n",
    "try:\n",
    "    c=int(a)/int(b)\n",
    "    print(c)\n",
    "except ZeroDivisionError:\n",
    "    print('b should  not be 0: ')\n",
    "except ValueError:\n",
    "    print(\"enter integer value\")"
   ]
  },
  {
   "cell_type": "code",
   "execution_count": 1,
   "metadata": {},
   "outputs": [
    {
     "name": "stdout",
     "output_type": "stream",
     "text": [
      "enter the number1:12\n",
      "enter the number2:0\n",
      "b should  not be 0\n",
      "plz enter integer value: \n",
      "<class 'int'>6\n",
      "6\n"
     ]
    }
   ],
   "source": [
    "a=int(input(\"enter the number1:\"))\n",
    "b=int(input(\"enter the number2:\"))\n",
    "try:\n",
    "    c=int(a)/int(b)\n",
    "    print(c)\n",
    "except ZeroDivisionError:\n",
    "    print('b should  not be 0')\n",
    "    print(\"plz enter integer value: \")\n",
    "    print(input(int))\n",
    "   \n"
   ]
  },
  {
   "cell_type": "markdown",
   "metadata": {},
   "source": [
    "at custom line"
   ]
  },
  {
   "cell_type": "code",
   "execution_count": 6,
   "metadata": {},
   "outputs": [
    {
     "name": "stdout",
     "output_type": "stream",
     "text": [
      "enter the number1:10\n",
      "enter the number2:a\n"
     ]
    },
    {
     "ename": "ValueError",
     "evalue": "invalid literal for int() with base 10: 'a'",
     "output_type": "error",
     "traceback": [
      "\u001b[1;31m---------------------------------------------------------------------------\u001b[0m",
      "\u001b[1;31mValueError\u001b[0m                                Traceback (most recent call last)",
      "\u001b[1;32m<ipython-input-6-073c935c45b2>\u001b[0m in \u001b[0;36m<module>\u001b[1;34m\u001b[0m\n\u001b[0;32m      1\u001b[0m \u001b[0ma\u001b[0m\u001b[1;33m=\u001b[0m\u001b[0mint\u001b[0m\u001b[1;33m(\u001b[0m\u001b[0minput\u001b[0m\u001b[1;33m(\u001b[0m\u001b[1;34m\"enter the number1:\"\u001b[0m\u001b[1;33m)\u001b[0m\u001b[1;33m)\u001b[0m\u001b[1;33m\u001b[0m\u001b[1;33m\u001b[0m\u001b[0m\n\u001b[1;32m----> 2\u001b[1;33m \u001b[0mb\u001b[0m\u001b[1;33m=\u001b[0m\u001b[0mint\u001b[0m\u001b[1;33m(\u001b[0m\u001b[0minput\u001b[0m\u001b[1;33m(\u001b[0m\u001b[1;34m\"enter the number2:\"\u001b[0m\u001b[1;33m)\u001b[0m\u001b[1;33m)\u001b[0m\u001b[1;33m\u001b[0m\u001b[1;33m\u001b[0m\u001b[0m\n\u001b[0m\u001b[0;32m      3\u001b[0m \u001b[0ma\u001b[0m\u001b[1;33m/\u001b[0m\u001b[0mb\u001b[0m\u001b[1;33m\u001b[0m\u001b[1;33m\u001b[0m\u001b[0m\n",
      "\u001b[1;31mValueError\u001b[0m: invalid literal for int() with base 10: 'a'"
     ]
    }
   ],
   "source": [
    "a=int(input(\"enter the number1:\"))   \n",
    "b=int(input(\"enter the number2:\")) \n",
    "a/b\n"
   ]
  },
  {
   "cell_type": "markdown",
   "metadata": {},
   "source": [
    "Exception class is already they have defined and we are calling this  calss"
   ]
  },
  {
   "cell_type": "code",
   "execution_count": null,
   "metadata": {},
   "outputs": [],
   "source": [
    "while True:\n",
    "    try:\n",
    "        a=int(input(\"first number\"))\n",
    "        b=int(input(\"second number\"))\n",
    "        if a<0 or b<0: \n",
    "            raise NegativeNumberException(\"neg number not allowed\")\n",
    "        c=a/b\n",
    "        print(\"div  is : \",c)\n",
    "        break\n",
    "    except ValueError:\n",
    "        print(\"plz enter int only\")\n",
    "    except ZeroDivisionError:\n",
    "        print(\"plz enter nonmzero denoinator\")\n",
    "    except Exceptiona as e:\n",
    "        print(e)"
   ]
  },
  {
   "cell_type": "code",
   "execution_count": null,
   "metadata": {},
   "outputs": [],
   "source": [
    "if you are going"
   ]
  },
  {
   "cell_type": "code",
   "execution_count": null,
   "metadata": {},
   "outputs": [],
   "source": [
    "class NegativeNumberException(Exception)\n",
    "    pass"
   ]
  },
  {
   "cell_type": "markdown",
   "metadata": {},
   "source": [
    "if the given number as 0 then we need raise except the that 0 is not allowed"
   ]
  },
  {
   "cell_type": "code",
   "execution_count": 4,
   "metadata": {},
   "outputs": [
    {
     "name": "stdout",
     "output_type": "stream",
     "text": [
      "enter the number1:aqwe\n",
      "plz enter int only\n",
      "enter the number1:12344\n",
      "enter the number2:a\n",
      "plz enter int only\n",
      "enter the number1:60\n",
      "enter the number2:34\n",
      "div is  1.7647058823529411\n"
     ]
    }
   ],
   "source": [
    "while True:\n",
    "    try:\n",
    "        a=int(input(\"enter the number1:\"))\n",
    "        b=int(input(\"enter the number2:\")) \n",
    "        if a<0 or b<0:\n",
    "            raise Exception(\"negative number are not allowed\")\n",
    "        c=a/b\n",
    "        print(\"div is \",c)\n",
    "        break\n",
    "    except ValueError:\n",
    "        print(\"plz enter int only\")\n",
    "    except ZeroDivisionError:\n",
    "        print(\"plz enter non zero denominator\")\n",
    "    except Exception as e:\n",
    "        print(e)"
   ]
  },
  {
   "cell_type": "code",
   "execution_count": null,
   "metadata": {},
   "outputs": [],
   "source": [
    " # custom exception\n",
    "while True:\n",
    "    try:\n",
    "        a=int(input(\"enter the number1:\"))\n",
    "        b=int(input(\"enter the number2:\")) \n",
    "        if a<0 or b<0:\n",
    "            raise Exception(\"negative number are not allowed\")\n",
    "        c=a/b\n",
    "        print(\"div is \",c)\n",
    "        break\n",
    "    except ValueError:\n",
    "        print(\"plz enter int only\")\n",
    "    except ZeroDivisionError:\n",
    "        print(\"plz enter non zero denominator\")\n",
    "    except Exception as e:\n",
    "        print(e)"
   ]
  },
  {
   "cell_type": "markdown",
   "metadata": {},
   "source": [
    "### final block"
   ]
  },
  {
   "cell_type": "code",
   "execution_count": 1,
   "metadata": {},
   "outputs": [
    {
     "name": "stdout",
     "output_type": "stream",
     "text": [
      "enter the number1: 10\n",
      "enter the number2: 0\n",
      "dont use zero in denominator\n",
      "hello\n",
      "python\n"
     ]
    }
   ],
   "source": [
    "try:\n",
    "    a=int(input(\"enter the number1: \"))\n",
    "    b=int(input(\"enter the number2: \"))\n",
    "    c=a/b\n",
    "    print(\"div:\", c)\n",
    "    \n",
    "except:\n",
    "    print(\"dont use zero in denominator\")\n",
    "        \n",
    "finally:\n",
    "    print(\"hello\")\n",
    "    print(\"python\")"
   ]
  },
  {
   "cell_type": "code",
   "execution_count": 2,
   "metadata": {},
   "outputs": [
    {
     "name": "stdout",
     "output_type": "stream",
     "text": [
      "enter the number1: 10\n",
      "enter the number2: w\n",
      "dont use zero in denominator\n",
      "hello\n",
      "python\n"
     ]
    }
   ],
   "source": [
    "try:\n",
    "    a=int(input(\"enter the number1: \"))\n",
    "    b=int(input(\"enter the number2: \"))\n",
    "    c=a/b\n",
    "    print(\"div:\", c)\n",
    "    \n",
    "except:\n",
    "    print(\"dont use zero in denominator\")\n",
    "        \n",
    "\n",
    "print(\"hello\")\n",
    "print(\"python\")"
   ]
  },
  {
   "cell_type": "markdown",
   "metadata": {},
   "source": [
    "python finally block  even though there is error exception\n",
    "\\it will print the message inside final block \n",
    "\n",
    "if we are not specificially mention final then it wont be print it will stop till error of exception"
   ]
  },
  {
   "cell_type": "code",
   "execution_count": 5,
   "metadata": {},
   "outputs": [
    {
     "name": "stdout",
     "output_type": "stream",
     "text": [
      "enter the number1: 10\n",
      "enter the number2: 0\n",
      "dont use zero in denominator\n"
     ]
    }
   ],
   "source": [
    "try:\n",
    "    a=int(input(\"enter the number1: \"))\n",
    "    b=int(input(\"enter the number2: \"))\n",
    "    c=a/b\n",
    "    print(\"div:\", c)\n",
    "    \n",
    "    \n",
    "except:\n",
    "    print(\"dont use zero in denominator\")\n",
    "        \n",
    "else:\n",
    "    print(\"hello\")\n",
    "    print(\"python\")"
   ]
  },
  {
   "cell_type": "code",
   "execution_count": 7,
   "metadata": {},
   "outputs": [
    {
     "name": "stdout",
     "output_type": "stream",
     "text": [
      "enter the number1: 10\n",
      "enter the number2: 1\n",
      "div: 10.0\n",
      "hello\n",
      "python\n"
     ]
    }
   ],
   "source": [
    "try:\n",
    "    a=int(input(\"enter the number1: \"))\n",
    "    b=int(input(\"enter the number2: \"))\n",
    "    c=a/b\n",
    "    print(\"div:\", c)\n",
    "    \n",
    "    \n",
    "except:\n",
    "    print(\"dont use zero in denominator\")\n",
    "        \n",
    "else:\n",
    "    print(\"hello\")\n",
    "    print(\"python\")"
   ]
  },
  {
   "cell_type": "code",
   "execution_count": 8,
   "metadata": {},
   "outputs": [
    {
     "name": "stdout",
     "output_type": "stream",
     "text": [
      "content written successfully\n"
     ]
    }
   ],
   "source": [
    "try:\n",
    "    f=open('demo_file','w')\n",
    "    f.write('Test write this')\n",
    "except IOError:\n",
    "    #this will only check for an IOError exception and then excute this print\n",
    "    print(\"error:could not find file or read data\")\n",
    "else:# this else block will excute if try block does not raise an exception\n",
    "    print(\"content written successfully\")\n",
    "    f.close()\n",
    "    \n",
    "    "
   ]
  },
  {
   "cell_type": "code",
   "execution_count": null,
   "metadata": {},
   "outputs": [],
   "source": []
  }
 ],
 "metadata": {
  "kernelspec": {
   "display_name": "Python 3",
   "language": "python",
   "name": "python3"
  },
  "language_info": {
   "codemirror_mode": {
    "name": "ipython",
    "version": 3
   },
   "file_extension": ".py",
   "mimetype": "text/x-python",
   "name": "python",
   "nbconvert_exporter": "python",
   "pygments_lexer": "ipython3",
   "version": "3.8.3"
  }
 },
 "nbformat": 4,
 "nbformat_minor": 4
}
